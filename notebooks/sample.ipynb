{
 "cells": [
  {
   "cell_type": "code",
   "execution_count": 17,
   "metadata": {},
   "outputs": [
    {
     "name": "stdout",
     "output_type": "stream",
     "text": [
      "4.710796326794897\n"
     ]
    }
   ],
   "source": [
    "import numpy as np\n",
    "\n",
    "alpha = 3.14\n",
    "\n",
    "new_alpha = float(alpha) + np.pi / 2.0\n",
    "if new_alpha < 0:\n",
    "    new_alpha = new_alpha + 2.0 * np.pi\n",
    "    # make sure angle lies in [0, 2pi]\n",
    "new_alpha = new_alpha - int(new_alpha / (2.0 * np.pi)) * (2.0 * np.pi)\n",
    "\n",
    "print(new_alpha)"
   ]
  },
  {
   "cell_type": "code",
   "execution_count": 19,
   "metadata": {},
   "outputs": [
    {
     "name": "stdout",
     "output_type": "stream",
     "text": [
      "6.281592653589794\n"
     ]
    }
   ],
   "source": [
    "angle = 3.14\n",
    "\n",
    "# convert angle to [0, 2pi] from [-pi, pi]\n",
    "angle = angle + np.pi\n",
    "\n",
    "print(angle)"
   ]
  },
  {
   "cell_type": "code",
   "execution_count": null,
   "metadata": {},
   "outputs": [],
   "source": [
    "# bins index\n",
    "\n",
    "bin_idxs = get_bin(angle)\n",
    "\n",
    "for bin_idx in bin_idxs:\n",
    "    angle_diff = angle - angle_bins[bin_idx]\n",
    "\n",
    "    Orientation[bin_idx, :] = np.array([np.cos(angle_diff), np.sin(angle_diff)])\n",
    "    Confidence[bin_idx] = 1"
   ]
  },
  {
   "cell_type": "code",
   "execution_count": 31,
   "metadata": {},
   "outputs": [
    {
     "name": "stdout",
     "output_type": "stream",
     "text": [
      "[1]\n"
     ]
    }
   ],
   "source": [
    "def get_bin(angle, bin_ranges):\n",
    "\n",
    "    bin_idxs = []\n",
    "\n",
    "    def is_between(min, max, angle):\n",
    "        max = (max - min) if (max - min) > 0 else (max - min) + 2 * np.pi\n",
    "        angle = (angle - min) if (angle - min) > 0 else (angle - min) + 2 * np.pi\n",
    "        return angle < max\n",
    "\n",
    "    for bin_idx, bin_range in enumerate(bin_ranges):\n",
    "        if is_between(bin_range[0], bin_range[1], angle):\n",
    "            bin_idxs.append(bin_idx)\n",
    "\n",
    "    return bin_idxs\n",
    "\n",
    "bins = 2\n",
    "interval = 2 * np.pi / bins\n",
    "overlap = 0.1\n",
    "bin_ranges = []\n",
    "for i in range(0, bins):\n",
    "    bin_ranges.append(\n",
    "        (\n",
    "            (i * interval - overlap) % (2 * np.pi),\n",
    "            (i * interval + interval + overlap) % (2 * np.pi),\n",
    "        )\n",
    "    )\n",
    "\n",
    "angle = 3.40\n",
    "\n",
    "bins_idxs = get_bin(angle, bin_ranges)\n",
    "print(bins_idxs)"
   ]
  },
  {
   "cell_type": "code",
   "execution_count": 34,
   "metadata": {},
   "outputs": [
    {
     "name": "stdout",
     "output_type": "stream",
     "text": [
      "[1.57079633 4.71238898]\n"
     ]
    }
   ],
   "source": [
    "def generate_bins(bins):\n",
    "    angle_bins = np.zeros(bins)\n",
    "    interval = 2 * np.pi / bins\n",
    "    for i in range(1, bins):\n",
    "        angle_bins[i] = i * interval\n",
    "    angle_bins += interval / 2  # center of bins\n",
    "\n",
    "    return angle_bins\n",
    "\n",
    "a = generate_bins(2)\n",
    "print(a)"
   ]
  },
  {
   "cell_type": "code",
   "execution_count": 37,
   "metadata": {},
   "outputs": [
    {
     "data": {
      "text/plain": [
       "1.5707963267948966"
      ]
     },
     "execution_count": 37,
     "metadata": {},
     "output_type": "execute_result"
    }
   ],
   "source": [
    "(2*np.pi - np.pi)/2"
   ]
  },
  {
   "cell_type": "code",
   "execution_count": null,
   "metadata": {},
   "outputs": [],
   "source": []
  }
 ],
 "metadata": {
  "kernelspec": {
   "display_name": "Python 3.8.13",
   "language": "python",
   "name": "python3"
  },
  "language_info": {
   "codemirror_mode": {
    "name": "ipython",
    "version": 3
   },
   "file_extension": ".py",
   "mimetype": "text/x-python",
   "name": "python",
   "nbconvert_exporter": "python",
   "pygments_lexer": "ipython3",
   "version": "3.8.13"
  },
  "orig_nbformat": 4,
  "vscode": {
   "interpreter": {
    "hash": "1cb2150678cc1785ad2fd1c144ed3540d41d0f38f36f5c06ddb71aec6f109d2f"
   }
  }
 },
 "nbformat": 4,
 "nbformat_minor": 2
}
